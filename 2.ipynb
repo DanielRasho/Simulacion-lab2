{
 "cells": [
  {
   "cell_type": "code",
   "execution_count": 2,
   "id": "cf29fb53",
   "metadata": {},
   "outputs": [],
   "source": [
    "import pulp"
   ]
  },
  {
   "cell_type": "code",
   "execution_count": null,
   "id": "551dc883",
   "metadata": {},
   "outputs": [
    {
     "name": "stdout",
     "output_type": "stream",
     "text": [
      "Asignaciones óptimas:\n",
      "Agente 1 asignado a Tarea 6 con costo 3\n",
      "Agente 2 asignado a Tarea 1 con costo 2\n",
      "Agente 3 asignado a Tarea 3 con costo 4\n",
      "Agente 4 asignado a Tarea 2 con costo 2\n",
      "Agente 5 asignado a Tarea 5 con costo 2\n",
      "Agente 6 asignado a Tarea 4 con costo 2\n",
      "Tarea 7 no asignada (agente ficticio)\n",
      "\n",
      "Costo total mínimo: 15.0\n"
     ]
    }
   ],
   "source": [
    "\n",
    "costos = [\n",
    "    [3, 8, 2,10, 3, 3, 9],\n",
    "    [2, 2, 7, 6, 5, 2, 7],\n",
    "    [5, 6, 4, 5, 6, 6, 6],\n",
    "    [4, 2, 7, 5, 9, 4, 7],\n",
    "    [10,3, 8, 4, 2, 3, 5],\n",
    "    [3, 5, 4, 2, 3, 7, 8]\n",
    "]\n",
    "\n",
    "# Agregamos el agente ficticio\n",
    "costos.append([0] * 7)\n",
    "\n",
    "num_agentes = len(costos)    \n",
    "num_tareas = len(costos[0])  \n",
    "\n",
    "prob = pulp.LpProblem(\"Asignacion\", pulp.LpMinimize)\n",
    "\n",
    "x = [\n",
    "    [pulp.LpVariable(f\"x_{i}_{j}\", cat=\"Binary\") for j in range(num_tareas)]\n",
    "    for i in range(num_agentes)\n",
    "]\n",
    "\n",
    "prob += pulp.lpSum(costos[i][j] * x[i][j] for i in range(num_agentes) for j in range(num_tareas))\n",
    "\n",
    "# Cada agente hace una sola tarea\n",
    "for i in range(num_agentes):\n",
    "    prob += pulp.lpSum(x[i][j] for j in range(num_tareas)) <= 1\n",
    "\n",
    "# Cada tarea es asignada a un agente\n",
    "for j in range(num_tareas):\n",
    "    prob += pulp.lpSum(x[i][j] for i in range(num_agentes)) == 1\n",
    "\n",
    "prob.solve()\n",
    "\n",
    "print(\"Asignaciones óptimas:\")\n",
    "for i in range(num_agentes):\n",
    "    for j in range(num_tareas):\n",
    "        if x[i][j].varValue == 1:\n",
    "            if i == 6:\n",
    "                print(f\"Tarea {j+1} no asignada (agente ficticio)\")\n",
    "            else:\n",
    "                print(f\"Agente {i+1} asignado a Tarea {j+1} con costo {costos[i][j]}\")\n",
    "\n",
    "print(f\"\\nCosto total mínimo: {pulp.value(prob.objective)}\")\n"
   ]
  }
 ],
 "metadata": {
  "kernelspec": {
   "display_name": "Python 3",
   "language": "python",
   "name": "python3"
  },
  "language_info": {
   "codemirror_mode": {
    "name": "ipython",
    "version": 3
   },
   "file_extension": ".py",
   "mimetype": "text/x-python",
   "name": "python",
   "nbconvert_exporter": "python",
   "pygments_lexer": "ipython3",
   "version": "3.13.2"
  }
 },
 "nbformat": 4,
 "nbformat_minor": 5
}
