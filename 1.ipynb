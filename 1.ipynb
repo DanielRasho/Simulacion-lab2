{
 "cells": [
  {
   "cell_type": "code",
   "execution_count": 1,
   "id": "cf29fb53",
   "metadata": {},
   "outputs": [],
   "source": [
    "import pulp"
   ]
  },
  {
   "cell_type": "markdown",
   "id": "7494cb2a",
   "metadata": {},
   "source": [
    "## Formular el modelo de transporte asociado"
   ]
  },
  {
   "cell_type": "markdown",
   "id": "247c2aa3",
   "metadata": {},
   "source": [
    "# Refinerías\n",
    "\n",
    "Existen 3 refinerías lo cual formamos el conjunto de i = {1,2,3} que es refinería 1,2,3\n",
    "Existen 3 áreas de distribución por lo cual definimos j = {1,2,3} que pertenece a área de distribución 1,2,3\n",
    "\n",
    "# Parámetros\n",
    "Para cada refinería, tiene su capacidad diaria lo cual lo denotariamos así\n",
    "Si , donde i es el conjunto de refinerías y S como capacidad\n",
    "\n",
    "Tambien tiene su Demanda diaria de millones de galones donde lo definimos así:\n",
    "Dj, donde D es demanda y j es el conjunto del área de distribución.\n",
    "\n",
    "Por otro lado existe el parámetro de costo de tranportar los millones de galones desde la refinería hasta el área de distribución:\n",
    "Cij donde C es el costo de tranporte de refinería i hasta área de distribución j\n",
    "\n",
    "Por otro lado hay que tomar en cuenta la cantidad de millones de galones que se puede transportar y que no sea menor a 0\n"
   ]
  },
  {
   "cell_type": "markdown",
   "id": "3c875cf4",
   "metadata": {},
   "source": [
    "\\begin{align*}\n",
    "\n",
    "\\textbf{Función objetivo:} \\quad & \\min \\sum_{i=1}^3 \\sum_{j=1}^3 c_{ij} \\cdot x_{ij} \\\\\n",
    "\\\\\n",
    "\\textbf{Sujeto a:} \\quad \n",
    "& \\sum_{j=1}^3 x_{ij} \\leq S_i \\quad \\forall i \\in \\{1,2,3\\} \\quad \\text{(Capacidad de refinería)} \\\\\n",
    "& \\sum_{i=1}^3 x_{ij} = D_j \\quad \\forall j \\in \\{1,2,3\\} \\quad \\text{(Demanda que hay en esta área)} \\\\\n",
    "\\end{align*}\n"
   ]
  },
  {
   "cell_type": "markdown",
   "id": "fbebd7fb",
   "metadata": {},
   "source": [
    "Tomar en cuenta que \n",
    "x13 no tiene conexión"
   ]
  },
  {
   "cell_type": "code",
   "execution_count": null,
   "id": "c72ababa",
   "metadata": {},
   "outputs": [
    {
     "name": "stdout",
     "output_type": "stream",
     "text": [
      "Costo total: $ 243.0\n",
      "Enviar 4.00 millones de galones de R1 a A1\n",
      "Enviar 2.00 millones de galones de R1 a A2\n",
      "Enviar 5.00 millones de galones de R2 a A2\n",
      "Enviar 1.00 millones de galones de R3 a A2\n",
      "Enviar 7.00 millones de galones de R3 a A3\n"
     ]
    }
   ],
   "source": [
    "\n",
    "refinerias = [1, 2, 3]\n",
    "areas = [1, 2, 3]\n",
    "\n",
    "oferta = {1: 6, 2: 5, 3: 8}\n",
    "demanda = {1: 4, 2: 8, 3: 7}\n",
    "\n",
    "# Distancias (en km)\n",
    "distancias = {\n",
    "    (1,1): 120, (1,2): 180,           # R1 no se conecta a A3\n",
    "    (2,1): 300, (2,2): 100, (2,3): 80,\n",
    "    (3,1): 200, (3,2): 250, (3,3): 120\n",
    "}\n",
    "\n",
    "costo = {k: distancias[k] * 0.10 for k in distancias}\n",
    "\n",
    "prob = pulp.LpProblem(\"TransporteGasolina\", pulp.LpMinimize)\n",
    "\n",
    "x = pulp.LpVariable.dicts(\"x\", costo.keys(), lowBound=0)\n",
    "\n",
    "prob += pulp.lpSum([costo[i,j] * x[i,j] for (i,j) in costo])\n",
    "\n",
    "for i in refinerias:\n",
    "    prob += pulp.lpSum([x[i,j] for j in areas if (i,j) in x]) <= oferta[i]\n",
    "\n",
    "for j in areas:\n",
    "    prob += pulp.lpSum([x[i,j] for i in refinerias if (i,j) in x]) == demanda[j]\n",
    "\n",
    "prob.solve()\n",
    "\n",
    "print(\"Costo total: $\", pulp.value(prob.objective))\n",
    "for (i,j) in x:\n",
    "    if x[i,j].varValue > 0:\n",
    "        print(f\"Enviar {x[i,j].varValue:.2f} millones de galones de R{i} a A{j}\")\n"
   ]
  },
  {
   "cell_type": "markdown",
   "id": "0b48654c",
   "metadata": {},
   "source": []
  },
  {
   "cell_type": "code",
   "execution_count": null,
   "id": "7e69f89a",
   "metadata": {},
   "outputs": [
    {
     "name": "stdout",
     "output_type": "stream",
     "text": [
      "Costo total: $ 207.0\n",
      "Enviar 4.00 millones de galones de R1 a A1\n",
      "Enviar 2.00 millones de galones de R1 a A2\n",
      "Enviar 5.00 millones de galones de R2 a A2\n",
      "Enviar 1.00 millones de galones de R3 a A2\n",
      "Enviar 4.00 millones de galones de R3 a A3\n",
      "Excedente de R3 enviado fuera del sistema: 3.00 millones\n"
     ]
    }
   ],
   "source": [
    "\n",
    "refinerias = [1, 2, 3]\n",
    "areas = [1, 2, 3]\n",
    "\n",
    "oferta = {1: 6, 2: 5, 3: 8}\n",
    "demanda = {1: 4, 2: 8, 3: 4}  # A3 disminuyó\n",
    "\n",
    "distancias = {\n",
    "    (1,1): 120, (1,2): 180,           # R1 no se conecta a A3\n",
    "    (2,1): 300, (2,2): 100, (2,3): 80,\n",
    "    (3,1): 200, (3,2): 250, (3,3): 120\n",
    "}\n",
    "\n",
    "costo = {k: distancias[k] * 0.10 for k in distancias}\n",
    "\n",
    "prob2 = pulp.LpProblem(\"TransporteGasolina_c\", pulp.LpMinimize)\n",
    "\n",
    "x = pulp.LpVariable.dicts(\"x\", costo.keys(), lowBound=0)\n",
    "\n",
    "exceso = {\n",
    "    1: pulp.LpVariable(\"exceso_1\", lowBound=0),\n",
    "    2: pulp.LpVariable(\"exceso_2\", lowBound=0),\n",
    "    3: pulp.LpVariable(\"exceso_3\", lowBound=0)\n",
    "}\n",
    "\n",
    "prob2 += pulp.lpSum([costo[i,j] * x[i,j] for (i,j) in x]) + \\\n",
    "         15000 * exceso[1] + 22000 * exceso[2]  # R3 sin costo\n",
    "\n",
    "for i in refinerias:\n",
    "    prob2 += pulp.lpSum([x[i,j] for j in areas if (i,j) in x]) + exceso[i] == oferta[i]\n",
    "\n",
    "for j in areas:\n",
    "    prob2 += pulp.lpSum([x[i,j] for i in refinerias if (i,j) in x]) == demanda[j]\n",
    "\n",
    "prob2.solve()\n",
    "\n",
    "print(\"Costo total: $\", pulp.value(prob2.objective))\n",
    "for (i,j) in x:\n",
    "    if x[i,j].varValue > 0:\n",
    "        print(f\"Enviar {x[i,j].varValue:.2f} millones de galones de R{i} a A{j}\")\n",
    "for i in exceso:\n",
    "    if exceso[i].varValue > 0:\n",
    "        print(f\"Excedente de R{i} enviado fuera del sistema: {exceso[i].varValue:.2f} millones\")\n"
   ]
  }
 ],
 "metadata": {
  "kernelspec": {
   "display_name": "Python 3",
   "language": "python",
   "name": "python3"
  },
  "language_info": {
   "codemirror_mode": {
    "name": "ipython",
    "version": 3
   },
   "file_extension": ".py",
   "mimetype": "text/x-python",
   "name": "python",
   "nbconvert_exporter": "python",
   "pygments_lexer": "ipython3",
   "version": "3.13.2"
  }
 },
 "nbformat": 4,
 "nbformat_minor": 5
}
