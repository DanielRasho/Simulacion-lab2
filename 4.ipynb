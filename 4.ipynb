{
 "cells": [
  {
   "cell_type": "code",
   "execution_count": 3,
   "id": "cf29fb53",
   "metadata": {},
   "outputs": [],
   "source": [
    "import numpy as np"
   ]
  },
  {
   "cell_type": "markdown",
   "id": "93edff58",
   "metadata": {},
   "source": [
    "## Biseccion"
   ]
  },
  {
   "cell_type": "code",
   "execution_count": 11,
   "id": "56488ebd",
   "metadata": {},
   "outputs": [],
   "source": [
    "# Implementacion\n",
    "def biseccion(f, interval, maxIter, tolerance):\n",
    "    x0, x1 = interval\n",
    "\n",
    "    for i in range(maxIter):\n",
    "        new_x = (x0 + x1) / 2\n",
    "        new_y = f(new_x)\n",
    "\n",
    "        print(f\"Iter {i}: x = {new_x}, f(x) = {new_y}\")\n",
    "\n",
    "        # Stopping condition\n",
    "        if abs(new_y) < tolerance or abs(x1 - x0) < tolerance:\n",
    "            return new_x\n",
    "\n",
    "        # Decide the subinterval\n",
    "        if new_y * f(x0) < 0:\n",
    "            x1 = new_x\n",
    "        else:\n",
    "            x0 = new_x\n",
    "\n",
    "    print(\"Method did not converge.\")\n",
    "    return (x0 + x1) / 2  # Return the best guess"
   ]
  },
  {
   "cell_type": "code",
   "execution_count": 14,
   "id": "4fef87f7",
   "metadata": {},
   "outputs": [
    {
     "name": "stdout",
     "output_type": "stream",
     "text": [
      "Iter 0: x = 4.5, f(x) = 4.5\n",
      "Iter 1: x = 1.75, f(x) = 1.75\n",
      "Iter 2: x = 0.375, f(x) = 0.375\n",
      "Iter 3: x = -0.3125, f(x) = -0.3125\n",
      "Iter 4: x = 0.03125, f(x) = 0.03125\n",
      "Iter 5: x = -0.140625, f(x) = -0.140625\n",
      "Iter 6: x = -0.0546875, f(x) = -0.0546875\n",
      "Iter 7: x = -0.01171875, f(x) = -0.01171875\n",
      "Iter 8: x = 0.009765625, f(x) = 0.009765625\n",
      "Iter 9: x = -0.0009765625, f(x) = -0.0009765625\n",
      "Iter 10: x = 0.00439453125, f(x) = 0.00439453125\n",
      "Iter 11: x = 0.001708984375, f(x) = 0.001708984375\n",
      "Iter 12: x = 0.0003662109375, f(x) = 0.0003662109375\n",
      "Iter 13: x = -0.00030517578125, f(x) = -0.00030517578125\n",
      "Iter 14: x = 3.0517578125e-05, f(x) = 3.0517578125e-05\n",
      "Iter 15: x = -0.0001373291015625, f(x) = -0.0001373291015625\n",
      "Iter 16: x = -5.340576171875e-05, f(x) = -5.340576171875e-05\n",
      "Iter 17: x = -1.1444091796875e-05, f(x) = -1.1444091796875e-05\n",
      "Iter 18: x = 9.5367431640625e-06, f(x) = 9.5367431640625e-06\n",
      "Iter 19: x = -9.5367431640625e-07, f(x) = -9.5367431640625e-07\n"
     ]
    },
    {
     "data": {
      "text/plain": [
       "-9.5367431640625e-07"
      ]
     },
     "execution_count": 14,
     "metadata": {},
     "output_type": "execute_result"
    }
   ],
   "source": [
    "# Test\n",
    "f = lambda x : x\n",
    "biseccion(f, (-1, 10), 20, 0.000001)"
   ]
  },
  {
   "cell_type": "markdown",
   "id": "698253a9",
   "metadata": {},
   "source": [
    "## Secante"
   ]
  },
  {
   "cell_type": "code",
   "execution_count": 15,
   "id": "21bc599f",
   "metadata": {},
   "outputs": [],
   "source": [
    "def secant(f, interval, maxIter, tolerance):\n",
    "    x0, x1 = interval\n",
    "    f_x0 = f(x0)\n",
    "    f_x1 = f(x1)\n",
    "\n",
    "    for i in range(maxIter):\n",
    "        if abs(f_x1 - f_x0) < 1e-12:  # avoid division by zero\n",
    "            print(\"Division by nearly zero in iteration\", i)\n",
    "            return None\n",
    "\n",
    "        x2 = x1 - f_x1 * (x1 - x0) / (f_x1 - f_x0)\n",
    "        if abs(x2 - x1) < tolerance:\n",
    "            return x2\n",
    "\n",
    "        x0, x1 = x1, x2\n",
    "        f_x0, f_x1 = f_x1, f(x2)\n",
    "\n",
    "    print(\"Method did not converge after\", maxIter, \"iterations\")\n",
    "    return None"
   ]
  },
  {
   "cell_type": "code",
   "execution_count": null,
   "id": "437b1835",
   "metadata": {},
   "outputs": [
    {
     "name": "stdout",
     "output_type": "stream",
     "text": [
      "Root: 6.25\n"
     ]
    }
   ],
   "source": [
    "import math\n",
    "\n",
    "def f(x):\n",
    "    return math.sqrt(x) - 2.5\n",
    "\n",
    "root = secant(f, (0.5, 2), 100, 1e-6)\n",
    "print(\"Root:\", root)"
   ]
  },
  {
   "cell_type": "markdown",
   "id": "ff65a263",
   "metadata": {},
   "source": [
    "## Newton-Raphson"
   ]
  },
  {
   "cell_type": "code",
   "execution_count": 19,
   "id": "135707aa",
   "metadata": {},
   "outputs": [],
   "source": [
    "def newton(f, df, startingPoint, maxIter, tolerance):\n",
    "    x = startingPoint\n",
    "\n",
    "    for i in range(maxIter):\n",
    "        f_x = f(x)\n",
    "        df_x = df(x)\n",
    "\n",
    "        if abs(df_x) < 1e-12:\n",
    "            print(f\"Derivative near zero at iteration {i}, x = {x}\")\n",
    "            return None  # Avoid division by zero\n",
    "\n",
    "        next_x = x - f_x / df_x\n",
    "\n",
    "        print(f\"Iter {i}: x = {x}, f(x) = {f_x}, df(x) = {df_x}, next_x = {next_x}\")\n",
    "\n",
    "        if abs(next_x - x) < tolerance or abs(f_x) < tolerance:\n",
    "            return next_x\n",
    "\n",
    "        x = next_x\n",
    "\n",
    "    print(\"Method did not converge.\")\n",
    "    return x"
   ]
  },
  {
   "cell_type": "code",
   "execution_count": 20,
   "id": "34cac6d5",
   "metadata": {},
   "outputs": [
    {
     "name": "stdout",
     "output_type": "stream",
     "text": [
      "Iter 0: x = 1.5, f(x) = -0.125, df(x) = 5.75, next_x = 1.5217391304347827\n",
      "Iter 1: x = 1.5217391304347827, f(x) = 0.0021369277554046384, df(x) = 5.947069943289225, next_x = 1.5213798059647863\n",
      "Iter 2: x = 1.5213798059647863, f(x) = 5.893874259754739e-07, df(x) = 5.943789541992352, next_x = 1.5213797068045751\n",
      "Root found: 1.5213797068045751\n"
     ]
    }
   ],
   "source": [
    "def f(x):\n",
    "    return x**3 - x - 2\n",
    "\n",
    "def df(x):\n",
    "    return 3*x**2 - 1\n",
    "\n",
    "root = newton(f, df, startingPoint=1.5, maxIter=100, tolerance=1e-6)\n",
    "print(\"Root found:\", root)"
   ]
  }
 ],
 "metadata": {
  "kernelspec": {
   "display_name": ".venv",
   "language": "python",
   "name": "python3"
  },
  "language_info": {
   "codemirror_mode": {
    "name": "ipython",
    "version": 3
   },
   "file_extension": ".py",
   "mimetype": "text/x-python",
   "name": "python",
   "nbconvert_exporter": "python",
   "pygments_lexer": "ipython3",
   "version": "3.13.5"
  }
 },
 "nbformat": 4,
 "nbformat_minor": 5
}
