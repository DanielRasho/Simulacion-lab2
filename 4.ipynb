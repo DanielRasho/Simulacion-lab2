{
 "cells": [
  {
   "cell_type": "code",
   "execution_count": 3,
   "id": "cf29fb53",
   "metadata": {},
   "outputs": [],
   "source": [
    "import numpy as np"
   ]
  },
  {
   "cell_type": "markdown",
   "id": "93edff58",
   "metadata": {},
   "source": [
    "## Biseccion"
   ]
  },
  {
   "cell_type": "code",
   "execution_count": 11,
   "id": "56488ebd",
   "metadata": {},
   "outputs": [],
   "source": [
    "# Implementacion\n",
    "def biseccion(f, interval, maxIter, tolerance):\n",
    "    x0, x1 = interval\n",
    "\n",
    "    for i in range(maxIter):\n",
    "        new_x = (x0 + x1) / 2\n",
    "        new_y = f(new_x)\n",
    "\n",
    "        print(f\"Iter {i}: x = {new_x}, f(x) = {new_y}\")\n",
    "\n",
    "        # Stopping condition\n",
    "        if abs(new_y) < tolerance or abs(x1 - x0) < tolerance:\n",
    "            return new_x\n",
    "\n",
    "        # Decide the subinterval\n",
    "        if new_y * f(x0) < 0:\n",
    "            x1 = new_x\n",
    "        else:\n",
    "            x0 = new_x\n",
    "\n",
    "    print(\"Method did not converge.\")\n",
    "    return (x0 + x1) / 2  # Return the best guess"
   ]
  },
  {
   "cell_type": "code",
   "execution_count": 14,
   "id": "4fef87f7",
   "metadata": {},
   "outputs": [
    {
     "name": "stdout",
     "output_type": "stream",
     "text": [
      "Iter 0: x = 4.5, f(x) = 4.5\n",
      "Iter 1: x = 1.75, f(x) = 1.75\n",
      "Iter 2: x = 0.375, f(x) = 0.375\n",
      "Iter 3: x = -0.3125, f(x) = -0.3125\n",
      "Iter 4: x = 0.03125, f(x) = 0.03125\n",
      "Iter 5: x = -0.140625, f(x) = -0.140625\n",
      "Iter 6: x = -0.0546875, f(x) = -0.0546875\n",
      "Iter 7: x = -0.01171875, f(x) = -0.01171875\n",
      "Iter 8: x = 0.009765625, f(x) = 0.009765625\n",
      "Iter 9: x = -0.0009765625, f(x) = -0.0009765625\n",
      "Iter 10: x = 0.00439453125, f(x) = 0.00439453125\n",
      "Iter 11: x = 0.001708984375, f(x) = 0.001708984375\n",
      "Iter 12: x = 0.0003662109375, f(x) = 0.0003662109375\n",
      "Iter 13: x = -0.00030517578125, f(x) = -0.00030517578125\n",
      "Iter 14: x = 3.0517578125e-05, f(x) = 3.0517578125e-05\n",
      "Iter 15: x = -0.0001373291015625, f(x) = -0.0001373291015625\n",
      "Iter 16: x = -5.340576171875e-05, f(x) = -5.340576171875e-05\n",
      "Iter 17: x = -1.1444091796875e-05, f(x) = -1.1444091796875e-05\n",
      "Iter 18: x = 9.5367431640625e-06, f(x) = 9.5367431640625e-06\n",
      "Iter 19: x = -9.5367431640625e-07, f(x) = -9.5367431640625e-07\n"
     ]
    },
    {
     "data": {
      "text/plain": [
       "-9.5367431640625e-07"
      ]
     },
     "execution_count": 14,
     "metadata": {},
     "output_type": "execute_result"
    }
   ],
   "source": [
    "# Test\n",
    "f = lambda x : x\n",
    "biseccion(f, (-1, 10), 20, 0.000001)"
   ]
  },
  {
   "cell_type": "markdown",
   "id": "698253a9",
   "metadata": {},
   "source": [
    "## Secante"
   ]
  },
  {
   "cell_type": "code",
   "execution_count": null,
   "id": "21bc599f",
   "metadata": {},
   "outputs": [],
   "source": []
  },
  {
   "cell_type": "code",
   "execution_count": null,
   "id": "437b1835",
   "metadata": {},
   "outputs": [],
   "source": []
  },
  {
   "cell_type": "markdown",
   "id": "ff65a263",
   "metadata": {},
   "source": [
    "## Newton-Raphson"
   ]
  },
  {
   "cell_type": "code",
   "execution_count": null,
   "id": "135707aa",
   "metadata": {},
   "outputs": [],
   "source": []
  },
  {
   "cell_type": "code",
   "execution_count": null,
   "id": "34cac6d5",
   "metadata": {},
   "outputs": [],
   "source": []
  }
 ],
 "metadata": {
  "kernelspec": {
   "display_name": ".venv",
   "language": "python",
   "name": "python3"
  },
  "language_info": {
   "codemirror_mode": {
    "name": "ipython",
    "version": 3
   },
   "file_extension": ".py",
   "mimetype": "text/x-python",
   "name": "python",
   "nbconvert_exporter": "python",
   "pygments_lexer": "ipython3",
   "version": "3.13.5"
  }
 },
 "nbformat": 4,
 "nbformat_minor": 5
}
